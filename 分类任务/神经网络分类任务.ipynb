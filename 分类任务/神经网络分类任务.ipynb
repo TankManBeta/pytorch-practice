{
 "cells": [
  {
   "attachments": {},
   "cell_type": "markdown",
   "metadata": {},
   "source": [
    "### Mnist分类任务：\n",
    "\n",
    "- 网络基本构建与训练方法，常用函数解析\n",
    "\n",
    "- torch.nn.functional模块\n",
    "\n",
    "- nn.Module模块\n"
   ]
  },
  {
   "attachments": {},
   "cell_type": "markdown",
   "metadata": {},
   "source": [
    "### 读取Mnist数据集\n",
    "- 会自动进行下载"
   ]
  },
  {
   "cell_type": "code",
   "execution_count": 49,
   "metadata": {
    "collapsed": true
   },
   "outputs": [],
   "source": [
    "%matplotlib inline"
   ]
  },
  {
   "cell_type": "code",
   "execution_count": 50,
   "metadata": {
    "collapsed": true
   },
   "outputs": [],
   "source": [
    "from pathlib import Path\n",
    "import requests\n",
    "\n",
    "DATA_PATH = Path(\"data\")\n",
    "PATH = DATA_PATH\n",
    "\n",
    "PATH.mkdir(parents=True, exist_ok=True)\n",
    "\n",
    "URL = \"http://deeplearning.net/data/mnist/\"\n",
    "FILENAME = \"mnist.pkl.gz\"\n",
    "\n",
    "if not (PATH / FILENAME).exists():\n",
    "        content = requests.get(URL + FILENAME).content\n",
    "        (PATH / FILENAME).open(\"wb\").write(content)"
   ]
  },
  {
   "cell_type": "code",
   "execution_count": 51,
   "metadata": {
    "collapsed": true
   },
   "outputs": [],
   "source": [
    "import pickle\n",
    "import gzip\n",
    "\n",
    "with gzip.open((PATH / FILENAME).as_posix(), \"rb\") as f:\n",
    "        ((x_train, y_train), (x_valid, y_valid), _) = pickle.load(f, encoding=\"latin-1\")"
   ]
  },
  {
   "attachments": {},
   "cell_type": "markdown",
   "metadata": {},
   "source": [
    "784是mnist数据集每个样本的像素点个数"
   ]
  },
  {
   "cell_type": "code",
   "execution_count": 52,
   "metadata": {},
   "outputs": [
    {
     "name": "stdout",
     "output_type": "stream",
     "text": [
      "(50000, 784)\n"
     ]
    },
    {
     "data": {
      "image/png": "[encoded data removed]",
      "text/plain": [
       "<Figure size 640x480 with 1 Axes>"
      ]
     },
     "metadata": {},
     "output_type": "display_data"
    }
   ],
   "source": [
    "from matplotlib import pyplot\n",
    "import numpy as np\n",
    "\n",
    "pyplot.imshow(x_train[0].reshape((28, 28)), cmap=\"gray\")\n",
    "print(x_train.shape)"
   ]
  },
  {
   "attachments": {},
   "cell_type": "markdown",
   "metadata": {},
   "source": [
    "注意数据需转换成tensor才能参与后续建模训练\n"
   ]
  },
  {
   "cell_type": "code",
   "execution_count": 53,
   "metadata": {},
   "outputs": [
    {
     "name": "stdout",
     "output_type": "stream",
     "text": [
      "tensor([[0., 0., 0.,  ..., 0., 0., 0.],\n",
      "        [0., 0., 0.,  ..., 0., 0., 0.],\n",
      "        [0., 0., 0.,  ..., 0., 0., 0.],\n",
      "        ...,\n",
      "        [0., 0., 0.,  ..., 0., 0., 0.],\n",
      "        [0., 0., 0.,  ..., 0., 0., 0.],\n",
      "        [0., 0., 0.,  ..., 0., 0., 0.]]) tensor([5, 0, 4,  ..., 8, 4, 8])\n",
      "torch.Size([50000, 784])\n",
      "tensor(0) tensor(9)\n"
     ]
    }
   ],
   "source": [
    "import torch\n",
    "\n",
    "x_train, y_train, x_valid, y_valid = map(\n",
    "    torch.tensor, (x_train, y_train, x_valid, y_valid)\n",
    ")\n",
    "n, c = x_train.shape\n",
    "print(x_train, y_train)\n",
    "print(x_train.shape)\n",
    "print(y_train.min(), y_train.max())"
   ]
  },
  {
   "attachments": {},
   "cell_type": "markdown",
   "metadata": {},
   "source": [
    "### torch.nn.functional 很多层和函数在这里都会见到\n",
    "\n",
    "torch.nn.functional中有很多功能，后续会常用的。那什么时候使用nn.Module，什么时候使用nn.functional呢？一般情况下，如果模型有可学习的参数，最好用nn.Module，其他情况nn.functional相对更简单一些"
   ]
  },
  {
   "cell_type": "code",
   "execution_count": 54,
   "metadata": {
    "collapsed": true
   },
   "outputs": [],
   "source": [
    "import torch.nn.functional as F\n",
    "\n",
    "loss_func = F.cross_entropy\n",
    "\n",
    "def model(xb):\n",
    "    return xb.mm(weights) + bias"
   ]
  },
  {
   "cell_type": "code",
   "execution_count": 55,
   "metadata": {},
   "outputs": [
    {
     "name": "stdout",
     "output_type": "stream",
     "text": [
      "tensor(10.3954, grad_fn=<NllLossBackward0>)\n"
     ]
    }
   ],
   "source": [
    "bs = 64\n",
    "xb = x_train[0:bs]  # a mini-batch from x\n",
    "yb = y_train[0:bs]\n",
    "weights = torch.randn([784, 10], dtype = torch.float,  requires_grad = True) \n",
    "bs = 64\n",
    "bias = torch.zeros(10, requires_grad=True)\n",
    "\n",
    "print(loss_func(model(xb), yb))"
   ]
  },
  {
   "attachments": {},
   "cell_type": "markdown",
   "metadata": {},
   "source": [
    "### 创建一个model来更简化代码"
   ]
  },
  {
   "attachments": {},
   "cell_type": "markdown",
   "metadata": {},
   "source": [
    "- 必须继承nn.Module且在其构造函数中需调用nn.Module的构造函数\n",
    "- 无需写反向传播函数，nn.Module能够利用autograd自动实现反向传播\n",
    "- Module中的可学习参数可以通过named_parameters()或者parameters()返回迭代器"
   ]
  },
  {
   "cell_type": "code",
   "execution_count": 56,
   "metadata": {
    "collapsed": true
   },
   "outputs": [],
   "source": [
    "from torch import nn\n",
    "\n",
    "class Mnist_NN(nn.Module):\n",
    "    def __init__(self):\n",
    "        super().__init__()\n",
    "        self.hidden1 = nn.Linear(784, 128)\n",
    "        self.hidden2 = nn.Linear(128, 256)\n",
    "        self.out  = nn.Linear(256, 10)\n",
    "\n",
    "    def forward(self, x):\n",
    "        x = F.relu(self.hidden1(x))\n",
    "        x = F.relu(self.hidden2(x))\n",
    "        x = self.out(x)\n",
    "        return x\n",
    "        "
   ]
  },
  {
   "cell_type": "code",
   "execution_count": 57,
   "metadata": {},
   "outputs": [
    {
     "name": "stdout",
     "output_type": "stream",
     "text": [
      "Mnist_NN(\n",
      "  (hidden1): Linear(in_features=784, out_features=128, bias=True)\n",
      "  (hidden2): Linear(in_features=128, out_features=256, bias=True)\n",
      "  (out): Linear(in_features=256, out_features=10, bias=True)\n",
      ")\n"
     ]
    }
   ],
   "source": [
    "net = Mnist_NN()\n",
    "print(net)\n"
   ]
  },
  {
   "attachments": {},
   "cell_type": "markdown",
   "metadata": {},
   "source": [
    "可以打印我们定义好名字里的权重和偏置项"
   ]
  },
  {
   "cell_type": "code",
   "execution_count": 58,
   "metadata": {},
   "outputs": [
    {
     "name": "stdout",
     "output_type": "stream",
     "text": [
      "hidden1.weight Parameter containing:\n",
      "tensor([[ 0.0148, -0.0276,  0.0274,  ..., -0.0328,  0.0119, -0.0256],\n",
      "        [-0.0242,  0.0074, -0.0025,  ..., -0.0308, -0.0038,  0.0197],\n",
      "        [-0.0348,  0.0163, -0.0355,  ...,  0.0299,  0.0307, -0.0244],\n",
      "        ...,\n",
      "        [ 0.0291,  0.0062,  0.0103,  ..., -0.0298,  0.0136,  0.0269],\n",
      "        [-0.0357, -0.0217, -0.0180,  ..., -0.0109, -0.0157,  0.0071],\n",
      "        [-0.0111,  0.0070,  0.0098,  ..., -0.0063,  0.0206,  0.0326]],\n",
      "       requires_grad=True) torch.Size([128, 784])\n",
      "hidden1.bias Parameter containing:\n",
      "tensor([-5.1994e-03,  2.2599e-02, -1.3067e-02,  3.1023e-02,  6.9784e-03,\n",
      "        -2.8000e-02,  2.4175e-02,  9.5074e-03,  3.0986e-02,  2.8473e-02,\n",
      "         4.5131e-03,  2.8177e-02,  3.4403e-02, -1.7848e-02, -1.6160e-02,\n",
      "         1.9425e-02,  8.3632e-03, -3.0460e-02,  8.7544e-03,  1.6187e-02,\n",
      "        -3.1086e-02,  3.0287e-02, -6.9955e-04,  4.5244e-03,  1.1300e-02,\n",
      "        -2.2894e-03,  3.4377e-02, -1.0895e-02, -5.3183e-03,  2.8480e-02,\n",
      "        -3.3458e-03, -1.6786e-02, -2.1263e-02, -1.4935e-02, -2.4514e-02,\n",
      "         7.0820e-03, -1.8838e-02,  1.1908e-02, -1.0411e-02,  2.1667e-02,\n",
      "        -5.0618e-03, -2.5059e-02, -2.8666e-02,  2.6954e-02,  3.1560e-02,\n",
      "        -1.6145e-05, -1.4080e-02, -2.9501e-02,  3.9074e-03,  2.4126e-02,\n",
      "         1.9661e-02,  2.7247e-02, -6.3580e-03,  2.6283e-02, -3.3606e-02,\n",
      "        -3.2046e-02,  3.0186e-02,  2.0043e-03, -9.9450e-03,  3.1120e-02,\n",
      "        -4.7268e-03, -8.5409e-03,  4.2692e-03, -2.0981e-02,  1.6186e-02,\n",
      "         6.4221e-03, -2.8069e-02, -7.5924e-04, -2.2841e-02,  2.9830e-03,\n",
      "         1.6803e-02,  2.5517e-02, -1.5396e-02,  1.5858e-02, -3.3562e-02,\n",
      "        -1.4168e-02,  2.7864e-02, -3.1606e-02,  1.1983e-02, -2.9123e-02,\n",
      "        -1.6710e-02,  7.7556e-03, -2.2985e-02, -6.5615e-03, -3.2553e-02,\n",
      "        -3.5452e-02, -1.0871e-02,  1.2726e-02,  2.8203e-02, -1.9750e-02,\n",
      "        -2.9187e-02,  8.8366e-03, -1.6943e-02,  1.1643e-02,  7.5271e-03,\n",
      "         1.0051e-02, -6.4427e-03,  1.0082e-02, -1.3839e-02, -5.1144e-03,\n",
      "        -1.1773e-02,  2.8111e-02, -3.2314e-02, -3.4955e-02, -3.5080e-03,\n",
      "        -5.7403e-03,  6.0800e-03,  8.5108e-03, -2.9357e-02,  1.5066e-02,\n",
      "         3.3194e-02, -9.4975e-03, -6.3599e-03,  2.3803e-03, -5.1704e-03,\n",
      "        -1.5310e-02,  5.9156e-03, -3.2527e-03,  3.3735e-02, -1.8956e-02,\n",
      "        -3.3563e-03, -3.4177e-02,  4.8650e-03,  2.3866e-02,  2.6922e-02,\n",
      "         1.8052e-02, -1.3754e-02, -1.4653e-03], requires_grad=True) torch.Size([128])\n",
      "hidden2.weight Parameter containing:\n",
      "tensor([[-0.0071,  0.0806, -0.0769,  ..., -0.0654,  0.0798, -0.0061],\n",
      "        [ 0.0760, -0.0185, -0.0070,  ...,  0.0866, -0.0813, -0.0284],\n",
      "        [ 0.0634, -0.0297, -0.0647,  ..., -0.0770, -0.0767,  0.0859],\n",
      "        ...,\n",
      "        [-0.0261, -0.0318, -0.0431,  ..., -0.0196,  0.0279, -0.0387],\n",
      "        [ 0.0803,  0.0620,  0.0663,  ..., -0.0559, -0.0170,  0.0743],\n",
      "        [ 0.0147, -0.0011,  0.0170,  ...,  0.0861, -0.0555, -0.0055]],\n",
      "       requires_grad=True) torch.Size([256, 128])\n",
      "hidden2.bias Parameter containing:\n",
      "tensor([ 0.0832,  0.0791,  0.0869,  0.0024,  0.0507, -0.0558,  0.0094, -0.0749,\n",
      "         0.0281, -0.0018,  0.0607,  0.0814, -0.0272,  0.0423,  0.0511, -0.0328,\n",
      "         0.0748,  0.0295, -0.0217, -0.0320, -0.0212,  0.0265, -0.0792, -0.0091,\n",
      "        -0.0220, -0.0372, -0.0285, -0.0596,  0.0028,  0.0079, -0.0405, -0.0487,\n",
      "        -0.0552, -0.0414,  0.0879, -0.0219, -0.0283,  0.0022, -0.0057, -0.0122,\n",
      "         0.0283,  0.0689, -0.0467, -0.0830,  0.0336,  0.0618,  0.0093,  0.0128,\n",
      "        -0.0448, -0.0853, -0.0715, -0.0249, -0.0851, -0.0181, -0.0385, -0.0544,\n",
      "         0.0860, -0.0485, -0.0127,  0.0804, -0.0304,  0.0584, -0.0772, -0.0510,\n",
      "         0.0663,  0.0801, -0.0222,  0.0457, -0.0550, -0.0359, -0.0598, -0.0569,\n",
      "         0.0217, -0.0070, -0.0579, -0.0781, -0.0265,  0.0302,  0.0380, -0.0875,\n",
      "         0.0430,  0.0077,  0.0792,  0.0331,  0.0585, -0.0758, -0.0741,  0.0763,\n",
      "         0.0866,  0.0079,  0.0202, -0.0745,  0.0580,  0.0528,  0.0007,  0.0464,\n",
      "        -0.0756, -0.0393,  0.0719, -0.0582, -0.0164, -0.0637, -0.0645,  0.0411,\n",
      "         0.0287, -0.0689,  0.0424, -0.0566, -0.0599, -0.0782, -0.0419,  0.0304,\n",
      "         0.0283, -0.0018,  0.0403, -0.0684, -0.0135, -0.0683,  0.0669,  0.0238,\n",
      "         0.0380,  0.0328, -0.0073, -0.0434, -0.0842, -0.0498,  0.0703,  0.0160,\n",
      "        -0.0266, -0.0549,  0.0444,  0.0578,  0.0416,  0.0687, -0.0169, -0.0010,\n",
      "         0.0373,  0.0512, -0.0201,  0.0244, -0.0573,  0.0856, -0.0708,  0.0488,\n",
      "        -0.0851,  0.0504,  0.0876,  0.0669, -0.0742, -0.0035, -0.0381,  0.0210,\n",
      "        -0.0536,  0.0740,  0.0242,  0.0424,  0.0782,  0.0035, -0.0118,  0.0882,\n",
      "         0.0141,  0.0086,  0.0065,  0.0850,  0.0666, -0.0522, -0.0530, -0.0156,\n",
      "        -0.0630, -0.0384,  0.0059,  0.0349, -0.0308,  0.0676,  0.0334,  0.0829,\n",
      "         0.0344,  0.0769,  0.0358, -0.0729,  0.0013, -0.0438,  0.0267,  0.0752,\n",
      "        -0.0486,  0.0702, -0.0632, -0.0575, -0.0259,  0.0607,  0.0552,  0.0111,\n",
      "         0.0109,  0.0648, -0.0591, -0.0014,  0.0243,  0.0281, -0.0176, -0.0874,\n",
      "         0.0659, -0.0786, -0.0819, -0.0076,  0.0563,  0.0011, -0.0620, -0.0361,\n",
      "        -0.0222,  0.0768,  0.0876,  0.0492, -0.0008,  0.0319,  0.0717, -0.0287,\n",
      "         0.0747, -0.0813, -0.0877, -0.0868,  0.0004, -0.0022,  0.0873, -0.0088,\n",
      "         0.0684, -0.0643,  0.0600, -0.0600, -0.0122, -0.0687, -0.0655,  0.0168,\n",
      "        -0.0873, -0.0294,  0.0095, -0.0130, -0.0781, -0.0728, -0.0124, -0.0752,\n",
      "        -0.0245, -0.0623, -0.0169,  0.0857, -0.0783, -0.0283,  0.0870,  0.0055,\n",
      "        -0.0486, -0.0296,  0.0207,  0.0034, -0.0820, -0.0790,  0.0266,  0.0190],\n",
      "       requires_grad=True) torch.Size([256])\n",
      "out.weight Parameter containing:\n",
      "tensor([[-0.0282, -0.0430,  0.0065,  ..., -0.0534,  0.0150, -0.0283],\n",
      "        [-0.0394,  0.0191, -0.0261,  ..., -0.0497, -0.0557,  0.0023],\n",
      "        [-0.0472,  0.0589,  0.0555,  ...,  0.0255,  0.0229, -0.0129],\n",
      "        ...,\n",
      "        [ 0.0469, -0.0180, -0.0155,  ..., -0.0430,  0.0567,  0.0293],\n",
      "        [ 0.0422,  0.0233, -0.0454,  ...,  0.0080,  0.0566, -0.0337],\n",
      "        [ 0.0039,  0.0104,  0.0236,  ..., -0.0494,  0.0573,  0.0076]],\n",
      "       requires_grad=True) torch.Size([10, 256])\n",
      "out.bias Parameter containing:\n",
      "tensor([ 0.0107, -0.0099, -0.0602,  0.0024, -0.0611, -0.0410,  0.0023,  0.0026,\n",
      "        -0.0148,  0.0609], requires_grad=True) torch.Size([10])\n"
     ]
    }
   ],
   "source": [
    "for name, parameter in net.named_parameters():\n",
    "    print(name, parameter,parameter.size())"
   ]
  },
  {
   "attachments": {},
   "cell_type": "markdown",
   "metadata": {},
   "source": [
    "### 使用TensorDataset和DataLoader来简化"
   ]
  },
  {
   "cell_type": "code",
   "execution_count": 59,
   "metadata": {
    "collapsed": true
   },
   "outputs": [],
   "source": [
    "from torch.utils.data import TensorDataset\n",
    "from torch.utils.data import DataLoader\n",
    "\n",
    "train_ds = TensorDataset(x_train, y_train)\n",
    "train_dl = DataLoader(train_ds, batch_size=bs, shuffle=True)\n",
    "\n",
    "valid_ds = TensorDataset(x_valid, y_valid)\n",
    "valid_dl = DataLoader(valid_ds, batch_size=bs * 2)"
   ]
  },
  {
   "cell_type": "code",
   "execution_count": 60,
   "metadata": {
    "collapsed": true
   },
   "outputs": [],
   "source": [
    "def get_data(train_ds, valid_ds, bs):\n",
    "    return (\n",
    "        DataLoader(train_ds, batch_size=bs, shuffle=True),\n",
    "        DataLoader(valid_ds, batch_size=bs * 2),\n",
    "    )"
   ]
  },
  {
   "attachments": {},
   "cell_type": "markdown",
   "metadata": {},
   "source": [
    "- 一般在训练模型时加上model.train()，这样会正常使用Batch Normalization和 Dropout\n",
    "- 测试的时候一般选择model.eval()，这样就不会使用Batch Normalization和 Dropout"
   ]
  },
  {
   "cell_type": "code",
   "execution_count": 61,
   "metadata": {
    "collapsed": true
   },
   "outputs": [],
   "source": [
    "import numpy as np\n",
    "\n",
    "def fit(steps, model, loss_func, opt, train_dl, valid_dl):\n",
    "    for step in range(steps):\n",
    "        model.train()\n",
    "        for xb, yb in train_dl:\n",
    "            loss_batch(model, loss_func, xb, yb, opt)\n",
    "\n",
    "        model.eval()\n",
    "        with torch.no_grad():\n",
    "            losses, nums = zip(\n",
    "                *[loss_batch(model, loss_func, xb, yb) for xb, yb in valid_dl]\n",
    "            )\n",
    "        val_loss = np.sum(np.multiply(losses, nums)) / np.sum(nums)\n",
    "        print('当前step:'+str(step), '验证集损失：'+str(val_loss))"
   ]
  },
  {
   "cell_type": "code",
   "execution_count": 62,
   "metadata": {
    "collapsed": true
   },
   "outputs": [],
   "source": [
    "from torch import optim\n",
    "def get_model():\n",
    "    model = Mnist_NN()\n",
    "    return model, optim.SGD(model.parameters(), lr=0.001)"
   ]
  },
  {
   "cell_type": "code",
   "execution_count": 63,
   "metadata": {
    "collapsed": true
   },
   "outputs": [],
   "source": [
    "def loss_batch(model, loss_func, xb, yb, opt=None):\n",
    "    loss = loss_func(model(xb), yb)\n",
    "\n",
    "    if opt is not None:\n",
    "        loss.backward()\n",
    "        opt.step()\n",
    "        opt.zero_grad()\n",
    "\n",
    "    return loss.item(), len(xb)"
   ]
  },
  {
   "attachments": {},
   "cell_type": "markdown",
   "metadata": {},
   "source": [
    "### 三行搞定！"
   ]
  },
  {
   "cell_type": "code",
   "execution_count": 64,
   "metadata": {},
   "outputs": [
    {
     "name": "stdout",
     "output_type": "stream",
     "text": [
      "当前step:0 验证集损失：2.2732115676879885\n",
      "当前step:1 验证集损失：2.2337995056152344\n",
      "当前step:2 验证集损失：2.1717225650787353\n",
      "当前step:3 验证集损失：2.0709178802490236\n",
      "当前step:4 验证集损失：1.915150645828247\n",
      "当前step:5 验证集损失：1.6971619384765626\n",
      "当前step:6 验证集损失：1.4367622686386108\n",
      "当前step:7 验证集损失：1.1907381172180176\n",
      "当前step:8 验证集损失：0.9965264797210693\n",
      "当前step:9 验证集损失：0.8541415641784668\n",
      "当前step:10 验证集损失：0.7500957761764526\n",
      "当前step:11 验证集损失：0.6724729294776917\n",
      "当前step:12 验证集损失：0.6134540246009826\n",
      "当前step:13 验证集损失：0.5672571681022645\n",
      "当前step:14 验证集损失：0.5305159070491791\n",
      "当前step:15 验证集损失：0.5009537684440613\n",
      "当前step:16 验证集损失：0.47622470483779905\n",
      "当前step:17 验证集损失：0.45588547134399415\n",
      "当前step:18 验证集损失：0.4387930741786957\n",
      "当前step:19 验证集损失：0.4240633098602295\n",
      "当前step:20 验证集损失：0.41104813170433047\n",
      "当前step:21 验证集损失：0.40059694609642027\n",
      "当前step:22 验证集损失：0.3904020503282547\n",
      "当前step:23 验证集损失：0.38218704450130464\n",
      "当前step:24 验证集损失：0.3740035159111023\n"
     ]
    }
   ],
   "source": [
    "train_dl, valid_dl = get_data(train_ds, valid_ds, bs)\n",
    "model, opt = get_model()\n",
    "fit(25, model, loss_func, opt, train_dl, valid_dl)"
   ]
  },
  {
   "cell_type": "code",
   "execution_count": null,
   "metadata": {
    "collapsed": true
   },
   "outputs": [],
   "source": []
  }
 ],
 "metadata": {
  "kernelspec": {
   "display_name": "Python 3",
   "language": "python",
   "name": "python3"
  },
  "language_info": {
   "codemirror_mode": {
    "name": "ipython",
    "version": 3
   },
   "file_extension": ".py",
   "mimetype": "text/x-python",
   "name": "python",
   "nbconvert_exporter": "python",
   "pygments_lexer": "ipython3",
   "version": "3.8.9"
  }
 },
 "nbformat": 4,
 "nbformat_minor": 1
}
